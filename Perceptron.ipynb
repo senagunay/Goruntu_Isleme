{
 "cells": [
  {
   "cell_type": "code",
   "execution_count": 45,
   "metadata": {},
   "outputs": [
    {
     "name": "stdout",
     "output_type": "stream",
     "text": [
      "[ 0. -1.  0.]\n"
     ]
    }
   ],
   "source": [
    "import numpy as np\n",
    "\n",
    "class Perceptron(object):\n",
    "    def __init__(self, input_size, lr = 1, epochs = 10):\n",
    "        self.W = np.zeros(input_size + 1)\n",
    "        #add one for bias\n",
    "        self.epochs = epochs\n",
    "        self.lr = lr\n",
    "        \n",
    "    def activation_fn(self, x):\n",
    "        return 1 if x >= 0 else 0\n",
    "    \n",
    "    def predict(self,x):\n",
    "        x = np.insert(x, 0, 1)\n",
    "        z = self.W.T.dot(x)\n",
    "        a = self.activation_fn(z)\n",
    "        return a\n",
    "    \n",
    "    def fit(self, X, d):\n",
    "        for _ in range (self.epochs):\n",
    "            for i in range(d.shape[0]):\n",
    "                y = self.predict(X[i])\n",
    "                e = d[i] - y\n",
    "                self.W = self.W + self.lr * e * np.insert(X[i], 0, 1)\n",
    "                \n",
    "# __init__ fonksiyonu yapıcı fonksiyondur. Perceptron sınıfından bir obje oluşturulurken çağırılır ve kendisine verilen\n",
    "# değerlerle atama işlemi yapar.\n",
    "# activation_fn fonksiyonu ise değerin işaretine göre 1 yada 0 geri gönderen bir fonksiyondur.\n",
    "# predict fonksiyonu ise kendisine gönderilen dizinin tüm işlemleri sonucu hangi çıktıyı verdiğini gösteren fonksiyondur.\n",
    "# fit fonksiyonu işlemler sonucu Perceptron sınıfının W değerlerini bulan fonksiyondur.\n",
    "\n",
    "# XOR işlemi için değerler:\n",
    "Xxor = np.array([\n",
    "         [0,0],\n",
    "         [0,1],\n",
    "         [1,0],\n",
    "         [1,1]\n",
    "])\n",
    "\n",
    "dxor = np.array([0, 1, 1, 0])\n",
    "\n",
    "p1 = Perceptron(input_size = 2)\n",
    "p1.fit(Xxor, dxor)\n",
    "print(p1.W)\n",
    "\n",
    "# 40 farklı imza olacağı için d değeri 40 farklı değer alabilir. X değeri için ise resimlerin 250*250 piksel olduğunu\n",
    "# kabul edersek 250*250*3'ün tek bir sütun şeklinde sıralandığı bir veri setimiz olur. \n",
    "\n",
    "# Perceptron sınıfının fonksiyonu olan predict'ten geri dönen değeri o değerin çıkışı olan d değerinden çıkartırsak error\n",
    "# hata değerini hesaplayabiliriz."
   ]
  },
  {
   "cell_type": "code",
   "execution_count": 39,
   "metadata": {},
   "outputs": [],
   "source": [
    "X = np.array([\n",
    "         [0,0],\n",
    "         [0,1],\n",
    "         [1,0],\n",
    "         [1,1]\n",
    "])"
   ]
  },
  {
   "cell_type": "code",
   "execution_count": 40,
   "metadata": {},
   "outputs": [],
   "source": [
    "d = np.array([0,0,0,1])"
   ]
  },
  {
   "cell_type": "code",
   "execution_count": 43,
   "metadata": {},
   "outputs": [],
   "source": [
    "perceptron = Perceptron(input_size = 2)"
   ]
  },
  {
   "cell_type": "code",
   "execution_count": 44,
   "metadata": {},
   "outputs": [
    {
     "name": "stdout",
     "output_type": "stream",
     "text": [
      "[-3.  2.  1.]\n"
     ]
    }
   ],
   "source": [
    "perceptron.fit(X, d)\n",
    "print(perceptron.W)"
   ]
  },
  {
   "cell_type": "code",
   "execution_count": 9,
   "metadata": {},
   "outputs": [
    {
     "data": {
      "text/plain": [
       "0"
      ]
     },
     "execution_count": 9,
     "metadata": {},
     "output_type": "execute_result"
    }
   ],
   "source": [
    "mp.activation_fn(-10)"
   ]
  },
  {
   "cell_type": "code",
   "execution_count": 7,
   "metadata": {},
   "outputs": [],
   "source": [
    "mp = Perceptron(5)"
   ]
  },
  {
   "cell_type": "code",
   "execution_count": 25,
   "metadata": {},
   "outputs": [
    {
     "data": {
      "text/plain": [
       "array([0., 0., 0., 0., 0., 0.])"
      ]
     },
     "execution_count": 25,
     "metadata": {},
     "output_type": "execute_result"
    }
   ],
   "source": [
    "mp.W"
   ]
  },
  {
   "cell_type": "code",
   "execution_count": null,
   "metadata": {},
   "outputs": [],
   "source": []
  }
 ],
 "metadata": {
  "kernelspec": {
   "display_name": "Python 3",
   "language": "python",
   "name": "python3"
  },
  "language_info": {
   "codemirror_mode": {
    "name": "ipython",
    "version": 3
   },
   "file_extension": ".py",
   "mimetype": "text/x-python",
   "name": "python",
   "nbconvert_exporter": "python",
   "pygments_lexer": "ipython3",
   "version": "3.8.3"
  }
 },
 "nbformat": 4,
 "nbformat_minor": 4
}
